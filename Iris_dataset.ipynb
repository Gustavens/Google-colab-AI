{
  "nbformat": 4,
  "nbformat_minor": 0,
  "metadata": {
    "colab": {
      "provenance": [],
      "include_colab_link": true
    },
    "kernelspec": {
      "name": "python3",
      "display_name": "Python 3"
    },
    "language_info": {
      "name": "python"
    }
  },
  "cells": [
    {
      "cell_type": "markdown",
      "metadata": {
        "id": "view-in-github",
        "colab_type": "text"
      },
      "source": [
        "<a href=\"https://colab.research.google.com/github/Gustavens/Google-colab-AI/blob/main/Iris_dataset.ipynb\" target=\"_parent\"><img src=\"https://colab.research.google.com/assets/colab-badge.svg\" alt=\"Open In Colab\"/></a>"
      ]
    },
    {
      "cell_type": "code",
      "execution_count": 1,
      "metadata": {
        "id": "r_F6ddx6o_1R"
      },
      "outputs": [],
      "source": [
        "import numpy as np\n",
        "import matplotlib.pyplot as plt\n",
        "\n",
        "def plotFunctions(title, functions, x = None, saveFile=None, ylim=(0,1.2)):\n",
        "  if not x:\n",
        "      x = np.linspace(-5, 5, 300)\n",
        "  fig, ax = plt.subplots()\n",
        "\n",
        "  legends = []\n",
        "  colors = ['b', 'g', 'r', 'c', 'm', 'y', 'k']\n",
        "  color_index = 0\n",
        "  for f in functions:\n",
        "    legends.append(\"y=\",+f[0])\n",
        "    y = f[1](x)\n",
        "    if (color_index == len(colors)):\n",
        "      color_index = 0\n",
        "    ax.plot(x,y,color=colors[color_index],alpha=0.5)\n",
        "    color_index += 1\n",
        "\n",
        "  ax.set(clabel='x', ylabel='y', title=title)\n",
        "  plt.xlim([x[0],x[-1]])\n",
        "  plt.ylim([ylim[0], ylim[1]])\n",
        "  ax.legend(legends)\n",
        "  plt.grid(True)\n",
        "\n",
        "  if saveFile:\n",
        "    plt.savefig(saveFile+'png')\n",
        "  plt.show()\n",
        "\n",
        "\n",
        "\n",
        "\n",
        "def sigmoide(x):\n",
        "  return 1/(1+np.exp(-x))\n",
        "\n",
        "\n",
        "class Neurona:\n",
        "  def __init__(self,num_entradas):\n",
        "    self.pesos = np.random.randn(num_entradas)\n",
        "    self.sesgo = np.random.randn()\n",
        "\n",
        "  def forward(self, entradas, activacion='sig'):\n",
        "    neurona_suma = np.dot(entradas, self.pesos)+self.sesgo\n",
        "    salida = sigmoide(neurona_suma)\n",
        "    return salida\n",
        "\n",
        "\n",
        "\n",
        "\n",
        "\n",
        "\n"
      ]
    },
    {
      "cell_type": "code",
      "source": [
        "\n",
        "import numpy as np\n",
        "from sklearn.datasets import load_iris\n",
        "from sklearn.model_selection import train_test_split\n",
        "\n",
        "iris = load_iris()\n",
        "\n",
        "X_train, X_test, y_train, y_test = train_test_split(iris.data, iris.target, test_size=0.3, random_state=42)\n",
        "\n",
        "\n",
        "print(y_train[0:10])\n",
        "neurona = Neurona(X_train.shape[1])\n",
        "\n",
        "tasa_aprendizaje = 0.1\n",
        "num_epocas = 1000\n",
        "\n",
        "for epoca in range(num_epocas):\n",
        "    for x,y in zip(X_train, y_train):\n",
        "      y_pred = neurona.forward(x)\n",
        "\n",
        "      #retro\n",
        "      d_y_pred = y_pred * (1-y_pred) #derivada de sig\n",
        "      d_error = (y_pred - y) * d_y_pred #error * derivada\n",
        "      d_pesos = d_error * x\n",
        "      d_sesgo = d_error\n",
        "\n",
        "      neurona.pesos -= tasa_aprendizaje * d_pesos\n",
        "      neurona.sesgo -= tasa_aprendizaje * d_sesgo"
      ],
      "metadata": {
        "id": "Lzs1ANL0tJbs",
        "colab": {
          "base_uri": "https://localhost:8080/"
        },
        "outputId": "96ad2601-fb1c-42bc-b16e-248b6e180675"
      },
      "execution_count": 2,
      "outputs": [
        {
          "output_type": "stream",
          "name": "stdout",
          "text": [
            "[1 2 2 1 2 1 2 1 0 2]\n"
          ]
        }
      ]
    },
    {
      "cell_type": "code",
      "source": [
        "num_correcto = 0\n",
        "\n",
        "\n",
        "for x,y in zip(X_test, y_test):\n",
        "  y_pred = neurona.forward(x)\n",
        "\n",
        "  if y_pred > 0.5:\n",
        "    y_pred = 1\n",
        "  else:\n",
        "    y_pred = 0\n",
        "\n",
        "  if y_pred == y:\n",
        "    num_correcto += 1\n",
        "\n",
        "acc = num_correcto / len(y_test)\n",
        "\n",
        "print(f\"Desempeño del modelo en el conjunto de prueba:{acc:.2f}\")\n"
      ],
      "metadata": {
        "colab": {
          "base_uri": "https://localhost:8080/"
        },
        "id": "doB2Jy_6vk3A",
        "outputId": "1d6f7b8b-2f57-4ecd-d60a-869a499f8100"
      },
      "execution_count": 3,
      "outputs": [
        {
          "output_type": "stream",
          "name": "stdout",
          "text": [
            "Desempeño del modelo en el conjunto de prueba:0.71\n"
          ]
        }
      ]
    }
  ]
}