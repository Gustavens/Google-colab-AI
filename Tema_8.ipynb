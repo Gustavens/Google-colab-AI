{
  "nbformat": 4,
  "nbformat_minor": 0,
  "metadata": {
    "colab": {
      "provenance": [],
      "include_colab_link": true
    },
    "kernelspec": {
      "name": "python3",
      "display_name": "Python 3"
    },
    "language_info": {
      "name": "python"
    }
  },
  "cells": [
    {
      "cell_type": "markdown",
      "metadata": {
        "id": "view-in-github",
        "colab_type": "text"
      },
      "source": [
        "<a href=\"https://colab.research.google.com/github/Gustavens/Google-colab-AI/blob/main/Tema_8.ipynb\" target=\"_parent\"><img src=\"https://colab.research.google.com/assets/colab-badge.svg\" alt=\"Open In Colab\"/></a>"
      ]
    },
    {
      "cell_type": "markdown",
      "source": [
        "Nombre: Jessica Méndez\n",
        "\n",
        "Materia: Procesamiento de Lenguaje Natural\n",
        "\n",
        "8 de febrero de 2024"
      ],
      "metadata": {
        "id": "B7IHWWI41xO5"
      }
    },
    {
      "cell_type": "code",
      "execution_count": null,
      "metadata": {
        "id": "xqWdjs721ugb"
      },
      "outputs": [],
      "source": [
        "import nltk"
      ]
    },
    {
      "cell_type": "code",
      "source": [
        "from nltk import CFG"
      ],
      "metadata": {
        "id": "xhk87nZh19Jo"
      },
      "execution_count": null,
      "outputs": []
    },
    {
      "cell_type": "code",
      "source": [
        "grammar = CFG.fromstring(\"\"\"\n",
        "S -> NP VP\n",
        "PP -> P NP\n",
        "NP -> Det N | NP PP\n",
        "VP -> V NP | VP PP\n",
        "Det -> 'a' | 'the'\n",
        "N -> 'dog' | 'cat'\n",
        "V -> 'chased' | 'sat'\n",
        "P -> 'on' | 'in'\n",
        " \"\"\")"
      ],
      "metadata": {
        "id": "OV2-Sww42EsY"
      },
      "execution_count": null,
      "outputs": []
    },
    {
      "cell_type": "code",
      "source": [
        "grammar"
      ],
      "metadata": {
        "colab": {
          "base_uri": "https://localhost:8080/"
        },
        "id": "LLL4YC_g2MHA",
        "outputId": "15331b7a-8c81-4186-b161-965f9fc0da41"
      },
      "execution_count": null,
      "outputs": [
        {
          "output_type": "execute_result",
          "data": {
            "text/plain": [
              "<Grammar with 14 productions>"
            ]
          },
          "metadata": {},
          "execution_count": 4
        }
      ]
    },
    {
      "cell_type": "code",
      "source": [
        "grammar.start()"
      ],
      "metadata": {
        "colab": {
          "base_uri": "https://localhost:8080/"
        },
        "id": "aF8TCXEa2OUn",
        "outputId": "ce1208da-2063-4c3f-9d16-1c65d3f287ab"
      },
      "execution_count": null,
      "outputs": [
        {
          "output_type": "execute_result",
          "data": {
            "text/plain": [
              "S"
            ]
          },
          "metadata": {},
          "execution_count": 5
        }
      ]
    },
    {
      "cell_type": "code",
      "source": [
        "grammar.productions()"
      ],
      "metadata": {
        "colab": {
          "base_uri": "https://localhost:8080/"
        },
        "id": "q6hMItLJ2QAQ",
        "outputId": "f8df2e97-7078-4646-b17e-90125fc03684"
      },
      "execution_count": null,
      "outputs": [
        {
          "output_type": "execute_result",
          "data": {
            "text/plain": [
              "[S -> NP VP,\n",
              " PP -> P NP,\n",
              " NP -> Det N,\n",
              " NP -> NP PP,\n",
              " VP -> V NP,\n",
              " VP -> VP PP,\n",
              " Det -> 'a',\n",
              " Det -> 'the',\n",
              " N -> 'dog',\n",
              " N -> 'cat',\n",
              " V -> 'chased',\n",
              " V -> 'sat',\n",
              " P -> 'on',\n",
              " P -> 'in']"
            ]
          },
          "metadata": {},
          "execution_count": 6
        }
      ]
    },
    {
      "cell_type": "code",
      "source": [
        "from nltk import PCFG"
      ],
      "metadata": {
        "id": "VjUINHez2R5R"
      },
      "execution_count": null,
      "outputs": []
    },
    {
      "cell_type": "code",
      "source": [
        "toy_pcfg1 = PCFG.fromstring(\"\"\"\n",
        "S -> NP VP [1.0]\n",
        "NP -> Det N [0.5] | NP PP [0.25] | 'John' [0.1] | 'I' [0.15]\n",
        "Det -> 'the' [0.8] | 'my' [0.2]\n",
        "N -> 'man' [0.5] | 'telescope' [0.5]\n",
        "VP -> VP PP [0.1] | V NP [0.7] | V [0.2]\n",
        "V -> 'ate' [0.35] | 'saw' [0.65]\n",
        "PP -> P NP [1.0]\n",
        "P -> 'with' [0.61] | 'under' [0.39]\n",
        "\"\"\")"
      ],
      "metadata": {
        "id": "icbeXTos2WXg"
      },
      "execution_count": null,
      "outputs": []
    },
    {
      "cell_type": "code",
      "source": [
        "g = CFG.fromstring(\"VP^<TOP> -> VBP NP^<VP-TOP>\")\n",
        "g.productions()[0].lhs()"
      ],
      "metadata": {
        "colab": {
          "base_uri": "https://localhost:8080/"
        },
        "id": "v1RCZDLA2a3I",
        "outputId": "5a0493a3-c1ce-4d19-e480-6df922880528"
      },
      "execution_count": null,
      "outputs": [
        {
          "output_type": "execute_result",
          "data": {
            "text/plain": [
              "VP^<TOP>"
            ]
          },
          "metadata": {},
          "execution_count": 15
        }
      ]
    },
    {
      "cell_type": "code",
      "source": [
        "from nltk.grammar import CFG\n",
        "from nltk.parse.generate import generate\n",
        "grammar = CFG.fromstring(\"\"\"\n",
        "S -> A B\n",
        "A -> 'a'\n",
        "# An empty string:\n",
        "B -> 'b' | ''\n",
        "\"\"\")\n"
      ],
      "metadata": {
        "id": "nYzIkIBS2jYp"
      },
      "execution_count": null,
      "outputs": []
    },
    {
      "cell_type": "code",
      "source": [
        "list(generate(grammar))\n"
      ],
      "metadata": {
        "colab": {
          "base_uri": "https://localhost:8080/"
        },
        "id": "sil1Wgb12lcw",
        "outputId": "884ba729-975f-462b-87fe-2d9f97d0d498"
      },
      "execution_count": null,
      "outputs": [
        {
          "output_type": "execute_result",
          "data": {
            "text/plain": [
              "[['a', 'b'], ['a', '']]"
            ]
          },
          "metadata": {},
          "execution_count": 11
        }
      ]
    },
    {
      "cell_type": "code",
      "source": [
        "grammar = CFG.fromstring(\"\"\"\n",
        "S -> A B\n",
        "A -> 'a'\n",
        "# An empty production:\n",
        "B -> 'b' |\n",
        "\"\"\")\n"
      ],
      "metadata": {
        "id": "S3e1raah2onS"
      },
      "execution_count": null,
      "outputs": []
    },
    {
      "cell_type": "code",
      "source": [
        "list(generate(grammar))"
      ],
      "metadata": {
        "colab": {
          "base_uri": "https://localhost:8080/"
        },
        "id": "f3mfqjJj2qSH",
        "outputId": "b8621c49-c130-4422-cf3d-d798a58b6a0b"
      },
      "execution_count": null,
      "outputs": [
        {
          "output_type": "execute_result",
          "data": {
            "text/plain": [
              "[['a', 'b'], ['a']]"
            ]
          },
          "metadata": {},
          "execution_count": 13
        }
      ]
    }
  ]
}