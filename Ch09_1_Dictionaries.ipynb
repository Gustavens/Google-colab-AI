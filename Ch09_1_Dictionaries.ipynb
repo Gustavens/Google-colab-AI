{
  "cells": [
    {
      "cell_type": "markdown",
      "metadata": {
        "id": "view-in-github",
        "colab_type": "text"
      },
      "source": [
        "<a href=\"https://colab.research.google.com/github/Gustavens/Google-colab-AI/blob/main/Ch09_1_Dictionaries.ipynb\" target=\"_parent\"><img src=\"https://colab.research.google.com/assets/colab-badge.svg\" alt=\"Open In Colab\"/></a>"
      ]
    },
    {
      "cell_type": "markdown",
      "metadata": {
        "id": "jartmYI7b3HH"
      },
      "source": [
        "# 9 Dictionaries\n",
        "<a href=\"https://colab.research.google.com/github/rambasnet/FDSPython-Notebooks/blob/master/Ch09-1-Dictionaries.ipynb\" target=\"_parent\"><img src=\"https://colab.research.google.com/assets/colab-badge.svg\" alt=\"Open In Colab\"/></a>\n",
        "\n",
        "http://openbookproject.net/thinkcs/python/english3e/dictionaries.html\n",
        "\n",
        "## Topics\n",
        "- dictionary data types\n",
        "- create and use dictionary\n",
        "- dictionary methods and operations\n",
        "- dictionary applications and problems\n",
        "\n",
        "\n",
        "## 9.1 Dictionary\n",
        "- another compound type/container like lists and tuples\n",
        "- very useful data structure/container that can store data as lookup table\n",
        "- Python's mapping type similar to `map` container, or associative arrays in C++ and other languages\n",
        "- dictionaries maps keys (immutable type) to values of any type (heterogeneous)\n",
        "- Python uses complex hash algorithm to index key for fast access (Worst case \"Big-Oh\": $O(1)$)\n",
        "    - as a result the ordering is not maintained\n",
        "- starting from verion 3.7, python dict remembers the oderes of the elements inserted"
      ]
    },
    {
      "cell_type": "markdown",
      "metadata": {
        "id": "I44Sbborb3HK"
      },
      "source": [
        "## 9.2 Creating dictionary objects"
      ]
    },
    {
      "cell_type": "code",
      "execution_count": 1,
      "metadata": {
        "id": "8HBeOYjcb3HM"
      },
      "outputs": [],
      "source": [
        "eng2sp = {} # or\n",
        "eng2sp1 = dict()"
      ]
    },
    {
      "cell_type": "code",
      "execution_count": 2,
      "metadata": {
        "id": "qHqYukNIb3HO",
        "outputId": "0688cd7e-a000-4a78-e371-a3c7135e4968",
        "colab": {
          "base_uri": "https://localhost:8080/"
        }
      },
      "outputs": [
        {
          "output_type": "stream",
          "name": "stdout",
          "text": [
            "{} {}\n"
          ]
        }
      ],
      "source": [
        "print(eng2sp, eng2sp1)"
      ]
    },
    {
      "cell_type": "code",
      "execution_count": 3,
      "metadata": {
        "id": "BkbC3XfCb3HQ"
      },
      "outputs": [],
      "source": [
        "eng2sp[\"One\"] = \"uno\"\n",
        "eng2sp[\"two\"] = \"dos\"\n",
        "eng2sp[\"three\"] = \"tres\"\n",
        "eng2sp[4] = \"quatro\"\n",
        "eng2sp[\"five\"] = \"sinco\""
      ]
    },
    {
      "cell_type": "code",
      "execution_count": 4,
      "metadata": {
        "id": "F9U6IeYpb3HR",
        "outputId": "a22d089e-275f-4a3a-828d-4671a6999646",
        "colab": {
          "base_uri": "https://localhost:8080/"
        }
      },
      "outputs": [
        {
          "output_type": "execute_result",
          "data": {
            "text/plain": [
              "{'One': 'uno', 'two': 'dos', 'three': 'tres', 4: 'quatro', 'five': 'sinco'}"
            ]
          },
          "metadata": {},
          "execution_count": 4
        }
      ],
      "source": [
        "eng2sp"
      ]
    },
    {
      "cell_type": "code",
      "execution_count": 5,
      "metadata": {
        "id": "ivvbNQXYb3HR"
      },
      "outputs": [],
      "source": [
        "key = 'Five'\n",
        "eng2sp[key] = 'Sinco'"
      ]
    },
    {
      "cell_type": "code",
      "execution_count": 6,
      "metadata": {
        "id": "2l73Bofqb3HR",
        "outputId": "e6c2472d-895d-42cd-ce2a-c3cbc37478c5",
        "colab": {
          "base_uri": "https://localhost:8080/"
        }
      },
      "outputs": [
        {
          "output_type": "stream",
          "name": "stdout",
          "text": [
            "{'One': 'uno', 'two': 'dos', 'three': 'tres', 4: 'quatro', 'five': 'sinco', 'Five': 'Sinco'}\n"
          ]
        }
      ],
      "source": [
        "print(eng2sp)"
      ]
    },
    {
      "cell_type": "code",
      "execution_count": 7,
      "metadata": {
        "id": "SycHSu6zb3HS",
        "outputId": "345d2342-76fa-4a7d-cb85-912892103d54",
        "colab": {
          "base_uri": "https://localhost:8080/"
        }
      },
      "outputs": [
        {
          "output_type": "stream",
          "name": "stdout",
          "text": [
            "uno\n"
          ]
        }
      ],
      "source": [
        "print(eng2sp['One'])"
      ]
    },
    {
      "cell_type": "code",
      "execution_count": 8,
      "metadata": {
        "id": "nDfda-O7b3HS"
      },
      "outputs": [],
      "source": [
        "symbolNames = {'*':'asterick', '+':\"plus\", '-': 'minus'}"
      ]
    },
    {
      "cell_type": "code",
      "execution_count": 9,
      "metadata": {
        "id": "ujGuN7CMb3HS",
        "outputId": "a7ce8807-b219-41e9-b7d6-f3a72ee60873",
        "colab": {
          "base_uri": "https://localhost:8080/"
        }
      },
      "outputs": [
        {
          "output_type": "stream",
          "name": "stdout",
          "text": [
            "{'One': 'uno', 'two': 'dos', 'three': 'tres', 4: 'quatro', 'five': 'sinco', 'Five': 'Sinco'} {'*': 'asterick', '+': 'plus', '-': 'minus'}\n"
          ]
        }
      ],
      "source": [
        "print(eng2sp, symbolNames)"
      ]
    },
    {
      "cell_type": "code",
      "execution_count": 10,
      "metadata": {
        "id": "kJue1Y37b3HS"
      },
      "outputs": [],
      "source": [
        "dict1 ={'one': 'uno', 'two': 'dos', 'three': 'tres', '4': 'quatro', 'five': 'sinco'}"
      ]
    },
    {
      "cell_type": "code",
      "execution_count": 11,
      "metadata": {
        "id": "4jtV6U1_b3HT",
        "outputId": "ced5e154-d876-444b-9e07-498ac5b90f64",
        "colab": {
          "base_uri": "https://localhost:8080/"
        }
      },
      "outputs": [
        {
          "output_type": "execute_result",
          "data": {
            "text/plain": [
              "{'one': 'uno', 'two': 'dos', 'three': 'tres', '4': 'quatro', 'five': 'sinco'}"
            ]
          },
          "metadata": {},
          "execution_count": 11
        }
      ],
      "source": [
        "dict1"
      ]
    },
    {
      "cell_type": "markdown",
      "metadata": {
        "id": "tE58BGKMb3HT"
      },
      "source": [
        "## 9.3 Accessing values\n",
        "- use index operator ['key']\n",
        "- dict is mutable"
      ]
    },
    {
      "cell_type": "code",
      "execution_count": 12,
      "metadata": {
        "id": "FPxnmU3Fb3HT"
      },
      "outputs": [],
      "source": [
        "one = 'One'"
      ]
    },
    {
      "cell_type": "code",
      "execution_count": 13,
      "metadata": {
        "id": "o3tgYG2Rb3HT",
        "outputId": "e7947dba-5495-4d97-c4f7-fd3466fd9e82",
        "colab": {
          "base_uri": "https://localhost:8080/",
          "height": 35
        }
      },
      "outputs": [
        {
          "output_type": "execute_result",
          "data": {
            "text/plain": [
              "'uno'"
            ],
            "application/vnd.google.colaboratory.intrinsic+json": {
              "type": "string"
            }
          },
          "metadata": {},
          "execution_count": 13
        }
      ],
      "source": [
        "eng2sp[one]"
      ]
    },
    {
      "cell_type": "code",
      "execution_count": 14,
      "metadata": {
        "id": "nQsChDcfb3HT",
        "outputId": "eef45536-a7ba-43a7-ce61-a090cc712cf6",
        "colab": {
          "base_uri": "https://localhost:8080/"
        }
      },
      "outputs": [
        {
          "output_type": "execute_result",
          "data": {
            "text/plain": [
              "{'One': 'uno',\n",
              " 'two': 'dos',\n",
              " 'three': 'tres',\n",
              " 4: 'quatro',\n",
              " 'five': 'sinco',\n",
              " 'Five': 'Sinco'}"
            ]
          },
          "metadata": {},
          "execution_count": 14
        }
      ],
      "source": [
        "eng2sp"
      ]
    },
    {
      "cell_type": "code",
      "execution_count": 15,
      "metadata": {
        "id": "mlqmNdJEb3HT",
        "outputId": "16dae70d-8ccc-43a0-b16b-aef23c59e787",
        "colab": {
          "base_uri": "https://localhost:8080/"
        }
      },
      "outputs": [
        {
          "output_type": "stream",
          "name": "stdout",
          "text": [
            "diez\n"
          ]
        }
      ],
      "source": [
        "eng2sp['ten'] = 'diez'\n",
        "print(eng2sp['ten'])"
      ]
    },
    {
      "cell_type": "code",
      "execution_count": 16,
      "metadata": {
        "id": "3ssxdTDDb3HU"
      },
      "outputs": [],
      "source": [
        "eng2sp['One'] = 'Uno'"
      ]
    },
    {
      "cell_type": "code",
      "execution_count": 17,
      "metadata": {
        "id": "SJb7-dzMb3HU",
        "outputId": "ea5a5247-30b8-4a14-943b-12587643d655",
        "colab": {
          "base_uri": "https://localhost:8080/"
        }
      },
      "outputs": [
        {
          "output_type": "execute_result",
          "data": {
            "text/plain": [
              "{'One': 'Uno',\n",
              " 'two': 'dos',\n",
              " 'three': 'tres',\n",
              " 4: 'quatro',\n",
              " 'five': 'sinco',\n",
              " 'Five': 'Sinco',\n",
              " 'ten': 'diez'}"
            ]
          },
          "metadata": {},
          "execution_count": 17
        }
      ],
      "source": [
        "eng2sp"
      ]
    },
    {
      "cell_type": "code",
      "execution_count": 18,
      "metadata": {
        "id": "RXRO3Gleb3HU"
      },
      "outputs": [],
      "source": [
        "eng2sp['One'] = ['uno']"
      ]
    },
    {
      "cell_type": "code",
      "execution_count": 19,
      "metadata": {
        "id": "oObXWsYYb3HU"
      },
      "outputs": [],
      "source": [
        "eng2sp['One'].append('Uno')"
      ]
    },
    {
      "cell_type": "code",
      "execution_count": 20,
      "metadata": {
        "id": "v9vvbW15b3HU"
      },
      "outputs": [],
      "source": [
        "eng2sp['One'].insert(0, 'UNO')"
      ]
    },
    {
      "cell_type": "code",
      "execution_count": 21,
      "metadata": {
        "id": "GgX1YzZ_b3HV",
        "outputId": "e6aaef3e-f8f9-4aff-8d89-5499573c9809",
        "colab": {
          "base_uri": "https://localhost:8080/"
        }
      },
      "outputs": [
        {
          "output_type": "stream",
          "name": "stdout",
          "text": [
            "{'One': ['UNO', 'uno', 'Uno'], 'two': 'dos', 'three': 'tres', 4: 'quatro', 'five': 'sinco', 'Five': 'Sinco', 'ten': 'diez'}\n"
          ]
        }
      ],
      "source": [
        "print(eng2sp)"
      ]
    },
    {
      "cell_type": "code",
      "execution_count": 22,
      "metadata": {
        "id": "wNjifci4b3HV"
      },
      "outputs": [],
      "source": [
        "adict = {1: ['uno', 'one'], 2:('two', 'dos'), 3:{'three':'tres'}}"
      ]
    },
    {
      "cell_type": "code",
      "execution_count": 23,
      "metadata": {
        "id": "J2clqEuHb3HV",
        "outputId": "bf72b976-c229-45fd-c4bb-45a6e83897ec",
        "colab": {
          "base_uri": "https://localhost:8080/"
        }
      },
      "outputs": [
        {
          "output_type": "stream",
          "name": "stdout",
          "text": [
            "dos\n"
          ]
        }
      ],
      "source": [
        "print(adict[2][1])"
      ]
    },
    {
      "cell_type": "code",
      "execution_count": 24,
      "metadata": {
        "id": "OxDu2HYdb3HV",
        "outputId": "40ef9597-5dab-4a60-c5ce-598bfa1f22b3",
        "colab": {
          "base_uri": "https://localhost:8080/"
        }
      },
      "outputs": [
        {
          "output_type": "stream",
          "name": "stdout",
          "text": [
            "tres\n"
          ]
        }
      ],
      "source": [
        "# How do you access tres in adict?\n",
        "print(adict[3]['three'])"
      ]
    },
    {
      "cell_type": "markdown",
      "metadata": {
        "id": "6fkHw6Ueb3HV"
      },
      "source": [
        "## 9.4 Dictionary methods"
      ]
    },
    {
      "cell_type": "code",
      "execution_count": 25,
      "metadata": {
        "id": "U6W5OVe6b3HV",
        "outputId": "3a6b72f4-398f-4171-b661-bad30d1655f0",
        "colab": {
          "base_uri": "https://localhost:8080/"
        }
      },
      "outputs": [
        {
          "output_type": "stream",
          "name": "stdout",
          "text": [
            "Help on class dict in module builtins:\n",
            "\n",
            "class dict(object)\n",
            " |  dict() -> new empty dictionary\n",
            " |  dict(mapping) -> new dictionary initialized from a mapping object's\n",
            " |      (key, value) pairs\n",
            " |  dict(iterable) -> new dictionary initialized as if via:\n",
            " |      d = {}\n",
            " |      for k, v in iterable:\n",
            " |          d[k] = v\n",
            " |  dict(**kwargs) -> new dictionary initialized with the name=value pairs\n",
            " |      in the keyword argument list.  For example:  dict(one=1, two=2)\n",
            " |  \n",
            " |  Built-in subclasses:\n",
            " |      StgDict\n",
            " |  \n",
            " |  Methods defined here:\n",
            " |  \n",
            " |  __contains__(self, key, /)\n",
            " |      True if the dictionary has the specified key, else False.\n",
            " |  \n",
            " |  __delitem__(self, key, /)\n",
            " |      Delete self[key].\n",
            " |  \n",
            " |  __eq__(self, value, /)\n",
            " |      Return self==value.\n",
            " |  \n",
            " |  __ge__(self, value, /)\n",
            " |      Return self>=value.\n",
            " |  \n",
            " |  __getattribute__(self, name, /)\n",
            " |      Return getattr(self, name).\n",
            " |  \n",
            " |  __getitem__(...)\n",
            " |      x.__getitem__(y) <==> x[y]\n",
            " |  \n",
            " |  __gt__(self, value, /)\n",
            " |      Return self>value.\n",
            " |  \n",
            " |  __init__(self, /, *args, **kwargs)\n",
            " |      Initialize self.  See help(type(self)) for accurate signature.\n",
            " |  \n",
            " |  __ior__(self, value, /)\n",
            " |      Return self|=value.\n",
            " |  \n",
            " |  __iter__(self, /)\n",
            " |      Implement iter(self).\n",
            " |  \n",
            " |  __le__(self, value, /)\n",
            " |      Return self<=value.\n",
            " |  \n",
            " |  __len__(self, /)\n",
            " |      Return len(self).\n",
            " |  \n",
            " |  __lt__(self, value, /)\n",
            " |      Return self<value.\n",
            " |  \n",
            " |  __ne__(self, value, /)\n",
            " |      Return self!=value.\n",
            " |  \n",
            " |  __or__(self, value, /)\n",
            " |      Return self|value.\n",
            " |  \n",
            " |  __repr__(self, /)\n",
            " |      Return repr(self).\n",
            " |  \n",
            " |  __reversed__(self, /)\n",
            " |      Return a reverse iterator over the dict keys.\n",
            " |  \n",
            " |  __ror__(self, value, /)\n",
            " |      Return value|self.\n",
            " |  \n",
            " |  __setitem__(self, key, value, /)\n",
            " |      Set self[key] to value.\n",
            " |  \n",
            " |  __sizeof__(...)\n",
            " |      D.__sizeof__() -> size of D in memory, in bytes\n",
            " |  \n",
            " |  clear(...)\n",
            " |      D.clear() -> None.  Remove all items from D.\n",
            " |  \n",
            " |  copy(...)\n",
            " |      D.copy() -> a shallow copy of D\n",
            " |  \n",
            " |  get(self, key, default=None, /)\n",
            " |      Return the value for key if key is in the dictionary, else default.\n",
            " |  \n",
            " |  items(...)\n",
            " |      D.items() -> a set-like object providing a view on D's items\n",
            " |  \n",
            " |  keys(...)\n",
            " |      D.keys() -> a set-like object providing a view on D's keys\n",
            " |  \n",
            " |  pop(...)\n",
            " |      D.pop(k[,d]) -> v, remove specified key and return the corresponding value.\n",
            " |      \n",
            " |      If the key is not found, return the default if given; otherwise,\n",
            " |      raise a KeyError.\n",
            " |  \n",
            " |  popitem(self, /)\n",
            " |      Remove and return a (key, value) pair as a 2-tuple.\n",
            " |      \n",
            " |      Pairs are returned in LIFO (last-in, first-out) order.\n",
            " |      Raises KeyError if the dict is empty.\n",
            " |  \n",
            " |  setdefault(self, key, default=None, /)\n",
            " |      Insert key with a value of default if key is not in the dictionary.\n",
            " |      \n",
            " |      Return the value for key if key is in the dictionary, else default.\n",
            " |  \n",
            " |  update(...)\n",
            " |      D.update([E, ]**F) -> None.  Update D from dict/iterable E and F.\n",
            " |      If E is present and has a .keys() method, then does:  for k in E: D[k] = E[k]\n",
            " |      If E is present and lacks a .keys() method, then does:  for k, v in E: D[k] = v\n",
            " |      In either case, this is followed by: for k in F:  D[k] = F[k]\n",
            " |  \n",
            " |  values(...)\n",
            " |      D.values() -> an object providing a view on D's values\n",
            " |  \n",
            " |  ----------------------------------------------------------------------\n",
            " |  Class methods defined here:\n",
            " |  \n",
            " |  __class_getitem__(...)\n",
            " |      See PEP 585\n",
            " |  \n",
            " |  fromkeys(iterable, value=None, /)\n",
            " |      Create a new dictionary with keys from iterable and values set to value.\n",
            " |  \n",
            " |  ----------------------------------------------------------------------\n",
            " |  Static methods defined here:\n",
            " |  \n",
            " |  __new__(*args, **kwargs)\n",
            " |      Create and return a new object.  See help(type) for accurate signature.\n",
            " |  \n",
            " |  ----------------------------------------------------------------------\n",
            " |  Data and other attributes defined here:\n",
            " |  \n",
            " |  __hash__ = None\n",
            "\n"
          ]
        }
      ],
      "source": [
        "help(dict)"
      ]
    },
    {
      "cell_type": "code",
      "source": [
        "eng2sp.keys()"
      ],
      "metadata": {
        "id": "mv7axUeUeHvQ",
        "outputId": "ccd371ae-1101-43c4-f4c6-4c7b39aab0e9",
        "colab": {
          "base_uri": "https://localhost:8080/"
        }
      },
      "execution_count": 26,
      "outputs": [
        {
          "output_type": "execute_result",
          "data": {
            "text/plain": [
              "dict_keys(['One', 'two', 'three', 4, 'five', 'Five', 'ten'])"
            ]
          },
          "metadata": {},
          "execution_count": 26
        }
      ]
    },
    {
      "cell_type": "code",
      "execution_count": 27,
      "metadata": {
        "id": "BOerMAzFb3HW",
        "outputId": "4e226680-f800-47b9-9c86-ad4ce0f65223",
        "colab": {
          "base_uri": "https://localhost:8080/"
        }
      },
      "outputs": [
        {
          "output_type": "stream",
          "name": "stdout",
          "text": [
            "key One maps to value ['UNO', 'uno', 'Uno']\n",
            "key two maps to value dos\n",
            "key three maps to value tres\n",
            "key 4 maps to value quatro\n",
            "key five maps to value sinco\n",
            "key Five maps to value Sinco\n",
            "key ten maps to value diez\n"
          ]
        }
      ],
      "source": [
        "for k in eng2sp.keys(): # the order of the keys is not defined\n",
        "    print(\"key {} maps to value {}\".format(k, eng2sp[k]))"
      ]
    },
    {
      "cell_type": "code",
      "execution_count": 28,
      "metadata": {
        "id": "o7dotTqUb3HW",
        "outputId": "ed852dbd-c00d-4b03-97f5-127adfade1f7",
        "colab": {
          "base_uri": "https://localhost:8080/"
        }
      },
      "outputs": [
        {
          "output_type": "stream",
          "name": "stdout",
          "text": [
            "['One', 'two', 'three', 4, 'five', 'Five', 'ten']\n"
          ]
        }
      ],
      "source": [
        "print(list(eng2sp.keys()))"
      ]
    },
    {
      "cell_type": "code",
      "execution_count": 29,
      "metadata": {
        "id": "NtIAaBNlb3HW",
        "outputId": "d270529b-3989-4e36-c218-2363080cc683",
        "colab": {
          "base_uri": "https://localhost:8080/"
        }
      },
      "outputs": [
        {
          "output_type": "stream",
          "name": "stdout",
          "text": [
            "[['UNO', 'uno', 'Uno'], 'dos', 'tres', 'quatro', 'sinco', 'Sinco', 'diez']\n"
          ]
        }
      ],
      "source": [
        "print(list(eng2sp.values()))"
      ]
    },
    {
      "cell_type": "code",
      "execution_count": 30,
      "metadata": {
        "id": "eh8-0SGhb3HW",
        "outputId": "e65ae5c7-69a6-4ebf-faa1-d72e9ee6dadf",
        "colab": {
          "base_uri": "https://localhost:8080/"
        }
      },
      "outputs": [
        {
          "output_type": "stream",
          "name": "stdout",
          "text": [
            "key = One value = ['UNO', 'uno', 'Uno']\n",
            "key = two value = dos\n",
            "key = three value = tres\n",
            "key = 4 value = quatro\n",
            "key = five value = sinco\n",
            "key = Five value = Sinco\n",
            "key = ten value = diez\n"
          ]
        }
      ],
      "source": [
        "# iterate over keys\n",
        "for k in eng2sp:\n",
        "    print('key = {} value = {}'.format(k, eng2sp.get(k)))"
      ]
    },
    {
      "cell_type": "code",
      "execution_count": 31,
      "metadata": {
        "id": "QO2wtcFcb3HW",
        "outputId": "5375ddfa-c5d2-432d-aec5-9a7024189011",
        "colab": {
          "base_uri": "https://localhost:8080/"
        }
      },
      "outputs": [
        {
          "output_type": "stream",
          "name": "stdout",
          "text": [
            "None\n"
          ]
        }
      ],
      "source": [
        "print(eng2sp.get('asdfsf'))"
      ]
    },
    {
      "cell_type": "code",
      "execution_count": 32,
      "metadata": {
        "id": "4TaAtr4Xb3HX",
        "outputId": "fab932cb-ad6b-45c4-d18a-87a84c5dd217",
        "colab": {
          "base_uri": "https://localhost:8080/"
        }
      },
      "outputs": [
        {
          "output_type": "stream",
          "name": "stdout",
          "text": [
            "None\n"
          ]
        }
      ],
      "source": [
        "print(eng2sp.get(\"Ondfe\"))"
      ]
    },
    {
      "cell_type": "code",
      "execution_count": 33,
      "metadata": {
        "id": "t8eno8PXb3HX",
        "outputId": "efd5d2a8-0949-4dce-8060-104bb036ef44",
        "colab": {
          "base_uri": "https://localhost:8080/"
        }
      },
      "outputs": [
        {
          "output_type": "stream",
          "name": "stdout",
          "text": [
            "value =  ['UNO', 'uno', 'Uno']\n",
            "value =  dos\n",
            "value =  tres\n",
            "value =  quatro\n",
            "value =  sinco\n",
            "value =  Sinco\n",
            "value =  diez\n"
          ]
        }
      ],
      "source": [
        "# iterate over values\n",
        "for val in eng2sp.values():\n",
        "    print(\"value = \", val)"
      ]
    },
    {
      "cell_type": "code",
      "execution_count": 34,
      "metadata": {
        "id": "5c6MttdCb3HX"
      },
      "outputs": [],
      "source": [
        "values = list(eng2sp.values())"
      ]
    },
    {
      "cell_type": "code",
      "execution_count": 35,
      "metadata": {
        "id": "SUC1zJotb3HX",
        "outputId": "47b832a0-811f-4c08-8778-6dafea3fdc83",
        "colab": {
          "base_uri": "https://localhost:8080/"
        }
      },
      "outputs": [
        {
          "output_type": "execute_result",
          "data": {
            "text/plain": [
              "[['UNO', 'uno', 'Uno'], 'dos', 'tres', 'quatro', 'sinco', 'Sinco', 'diez']"
            ]
          },
          "metadata": {},
          "execution_count": 35
        }
      ],
      "source": [
        "values"
      ]
    },
    {
      "cell_type": "code",
      "execution_count": 36,
      "metadata": {
        "id": "TNxSfdNdb3HX"
      },
      "outputs": [],
      "source": [
        "items = list(eng2sp.items())"
      ]
    },
    {
      "cell_type": "code",
      "execution_count": 37,
      "metadata": {
        "id": "Ed56kS8Sb3Hi",
        "outputId": "6fe1757e-bc1a-40cc-fd45-05fcae9efe62",
        "colab": {
          "base_uri": "https://localhost:8080/"
        }
      },
      "outputs": [
        {
          "output_type": "stream",
          "name": "stdout",
          "text": [
            "[('One', ['UNO', 'uno', 'Uno']), ('two', 'dos'), ('three', 'tres'), (4, 'quatro'), ('five', 'sinco'), ('Five', 'Sinco'), ('ten', 'diez')]\n"
          ]
        }
      ],
      "source": [
        "print(items)"
      ]
    },
    {
      "cell_type": "code",
      "execution_count": 38,
      "metadata": {
        "id": "w8TrugJcb3Hi",
        "outputId": "964a10ba-0b7a-473c-b32f-1e57c4fafa66",
        "colab": {
          "base_uri": "https://localhost:8080/"
        }
      },
      "outputs": [
        {
          "output_type": "stream",
          "name": "stdout",
          "text": [
            "{'One': ['UNO', 'uno', 'Uno'], 'two': 'dos', 'three': 'tres', 4: 'quatro', 'five': 'sinco', 'Five': 'Sinco', 'ten': 'diez'}\n"
          ]
        }
      ],
      "source": [
        "dict2 = dict(items)\n",
        "print(dict2)"
      ]
    },
    {
      "cell_type": "code",
      "execution_count": 39,
      "metadata": {
        "id": "PvfFVAG-b3Hj",
        "outputId": "e961c531-b7aa-4ede-b38a-27da49c10bbd",
        "colab": {
          "base_uri": "https://localhost:8080/"
        }
      },
      "outputs": [
        {
          "output_type": "stream",
          "name": "stdout",
          "text": [
            "One -> ['UNO', 'uno', 'Uno']\n",
            "two -> dos\n",
            "three -> tres\n",
            "4 -> quatro\n",
            "five -> sinco\n",
            "Five -> Sinco\n",
            "ten -> diez\n"
          ]
        }
      ],
      "source": [
        "for k, v in eng2sp.items():\n",
        "    print('{} -> {}'.format(k, v))"
      ]
    },
    {
      "cell_type": "code",
      "execution_count": 40,
      "metadata": {
        "id": "doXA65ifb3Hj",
        "outputId": "3b145882-fc91-4686-b23b-727788f8471e",
        "colab": {
          "base_uri": "https://localhost:8080/"
        }
      },
      "outputs": [
        {
          "output_type": "stream",
          "name": "stdout",
          "text": [
            "('ten', 'diez')\n",
            "{'One': ['UNO', 'uno', 'Uno'], 'two': 'dos', 'three': 'tres', 4: 'quatro', 'five': 'sinco', 'Five': 'Sinco'}\n"
          ]
        }
      ],
      "source": [
        "print(eng2sp.popitem())\n",
        "print(eng2sp)"
      ]
    },
    {
      "cell_type": "markdown",
      "metadata": {
        "id": "LGehc_zcb3Hj"
      },
      "source": [
        "## 9.5 Checking keys\n",
        "- in and not in operators can be used to check if some keys exist in a given dictionary\n",
        "- knowing if key exists helps automatically create dictionaries and access corresponding values"
      ]
    },
    {
      "cell_type": "code",
      "execution_count": 41,
      "metadata": {
        "id": "5C_Fbi0ab3Hj",
        "outputId": "ac07ca6f-0154-4935-9af1-8906bbff287e",
        "colab": {
          "base_uri": "https://localhost:8080/"
        }
      },
      "outputs": [
        {
          "output_type": "execute_result",
          "data": {
            "text/plain": [
              "True"
            ]
          },
          "metadata": {},
          "execution_count": 41
        }
      ],
      "source": [
        "\"One\" in eng2sp"
      ]
    },
    {
      "cell_type": "code",
      "execution_count": 42,
      "metadata": {
        "id": "Pr_4GZ0Tb3Hk",
        "outputId": "a283d07b-501b-4f59-c5a1-5243b39ca5d1",
        "colab": {
          "base_uri": "https://localhost:8080/"
        }
      },
      "outputs": [
        {
          "output_type": "execute_result",
          "data": {
            "text/plain": [
              "False"
            ]
          },
          "metadata": {},
          "execution_count": 42
        }
      ],
      "source": [
        "\"Ten\" in eng2sp"
      ]
    },
    {
      "cell_type": "code",
      "execution_count": 43,
      "metadata": {
        "id": "NLSTiLcYb3Hk",
        "outputId": "83c0ecf5-f1b0-4344-b8d0-684c16d616a4",
        "colab": {
          "base_uri": "https://localhost:8080/"
        }
      },
      "outputs": [
        {
          "output_type": "execute_result",
          "data": {
            "text/plain": [
              "True"
            ]
          },
          "metadata": {},
          "execution_count": 43
        }
      ],
      "source": [
        "\"twenty\" not in eng2sp"
      ]
    },
    {
      "cell_type": "markdown",
      "metadata": {
        "id": "701MHlzpb3Hk"
      },
      "source": [
        "## 9.6 Copying dictionary objects\n",
        "- shallow copy vs deep copy"
      ]
    },
    {
      "cell_type": "code",
      "execution_count": 44,
      "metadata": {
        "id": "sOXll81wb3Hk"
      },
      "outputs": [],
      "source": [
        "import copy\n",
        "digits = {1: 'one', 2: 'two', 3: ['three', 'Three', 'THREE']}\n",
        "digits1 = digits # creates an alias\n",
        "digits2 = digits.copy() # shallow copy\n",
        "digits3 = copy.deepcopy(digits) # deep copy"
      ]
    },
    {
      "cell_type": "markdown",
      "metadata": {
        "id": "yIj7wJzIb3Hk"
      },
      "source": [
        "### [visualize in pythontutor.com](https://goo.gl/XmvYkB)"
      ]
    },
    {
      "cell_type": "code",
      "execution_count": 45,
      "metadata": {
        "colab": {
          "base_uri": "https://localhost:8080/",
          "height": 621
        },
        "id": "ELr3nkJnb3Hl",
        "outputId": "c4d82302-1737-4cb9-b32a-f7a87ef3a229"
      },
      "outputs": [
        {
          "output_type": "execute_result",
          "data": {
            "text/plain": [
              "<IPython.lib.display.IFrame at 0x7dbf24e1a6d0>"
            ],
            "text/html": [
              "\n",
              "        <iframe\n",
              "            width=\"900\"\n",
              "            height=\"600\"\n",
              "            src=\"\n",
              "http://pythontutor.com/iframe-embed.html#code=import%20copy%0Adigits%20%3D%20%7B1%3A%20'one',%202%3A%20'two',%203%3A%20%5B'three',%20'Three',%20'THREE'%5D%7D%0Adigits1%20%3D%20digits%20%23%20creates%20an%20alias%0Adigits2%20%3D%20digits.copy%28%29%20%23%20shallow%20copy%0Adigits3%20%3D%20copy.deepcopy%28digits%29%20%23%20deep%20copy&codeDivHeight=400&codeDivWidth=350&cumulative=false&curInstr=0&heapPrimitives=false&origin=opt-frontend.js&py=3&rawInputLstJSON=%5B%5D&textReferences=false\n",
              "\"\n",
              "            frameborder=\"0\"\n",
              "            allowfullscreen\n",
              "            \n",
              "        ></iframe>\n",
              "        "
            ]
          },
          "metadata": {},
          "execution_count": 45
        }
      ],
      "source": [
        "from IPython.display import IFrame\n",
        "src = '''\n",
        "http://pythontutor.com/iframe-embed.html#code=import%20copy%0Adigits%20%3D%20%7B1%3A%20'one',%202%3A%20'two',%203%3A%20%5B'three',%20'Three',%20'THREE'%5D%7D%0Adigits1%20%3D%20digits%20%23%20creates%20an%20alias%0Adigits2%20%3D%20digits.copy%28%29%20%23%20shallow%20copy%0Adigits3%20%3D%20copy.deepcopy%28digits%29%20%23%20deep%20copy&codeDivHeight=400&codeDivWidth=350&cumulative=false&curInstr=0&heapPrimitives=false&origin=opt-frontend.js&py=3&rawInputLstJSON=%5B%5D&textReferences=false\n",
        "'''\n",
        "IFrame(src, width=900, height=600)"
      ]
    },
    {
      "cell_type": "markdown",
      "metadata": {
        "id": "tVagFBEhb3Hl"
      },
      "source": [
        "## 9.7 Passing dictionaries to functions\n",
        "- dict is a mutable type\n",
        "- therefore, dict objects are passed by reference"
      ]
    },
    {
      "cell_type": "code",
      "execution_count": 46,
      "metadata": {
        "id": "UYII3U2Tb3Hl"
      },
      "outputs": [],
      "source": [
        "# find the histogram (frequency of each unique character) in a word\n",
        "def histogram(word, hist):\n",
        "    for c in word:\n",
        "        c = c.lower()\n",
        "        if c in hist:\n",
        "            hist[c] += 1\n",
        "        else:\n",
        "            hist[c] = 1"
      ]
    },
    {
      "cell_type": "code",
      "execution_count": 47,
      "metadata": {
        "colab": {
          "base_uri": "https://localhost:8080/"
        },
        "id": "fgWtCOF-b3Hl",
        "outputId": "0fdbfff7-f846-449a-c1ae-50f1223b650c"
      },
      "outputs": [
        {
          "output_type": "stream",
          "name": "stdout",
          "text": [
            "m 2\n",
            "i 4\n",
            "s 4\n",
            "p 2\n"
          ]
        }
      ],
      "source": [
        "h = {}\n",
        "histogram('Mississippim', h)\n",
        "for k, v in h.items():\n",
        "    print(k, v)"
      ]
    },
    {
      "cell_type": "markdown",
      "metadata": {
        "id": "zMd39-4Eb3Hm"
      },
      "source": [
        "## 9.8 Returning dict from functions\n",
        "- dict objects can be returned from functions"
      ]
    },
    {
      "cell_type": "code",
      "execution_count": 48,
      "metadata": {
        "id": "os9qdIZmb3Hm"
      },
      "outputs": [],
      "source": [
        "def getHist(word):# = \"Mississippi\"\n",
        "    h = {}\n",
        "    for c in word:\n",
        "        if c in h:\n",
        "            h[c] += 1\n",
        "        else:\n",
        "            h[c] = 1\n",
        "    return h"
      ]
    },
    {
      "cell_type": "code",
      "execution_count": 49,
      "metadata": {
        "id": "B-2_Xsqpb3Hm",
        "outputId": "bf97f074-934a-4fcc-aac8-17d92b9abd38",
        "colab": {
          "base_uri": "https://localhost:8080/"
        }
      },
      "outputs": [
        {
          "output_type": "stream",
          "name": "stdout",
          "text": [
            "{'M': 1, 'i': 4, 's': 4, 'p': 2}\n",
            "M is in histogram\n"
          ]
        }
      ],
      "source": [
        "hist = getHist('Mississippi')\n",
        "print(hist)\n",
        "if 'M' in hist:\n",
        "    print('M is in histogram')"
      ]
    },
    {
      "cell_type": "markdown",
      "metadata": {
        "id": "safIRm9ub3Hn"
      },
      "source": [
        "## 9.9 Exercises"
      ]
    },
    {
      "cell_type": "markdown",
      "metadata": {
        "id": "CjtGEIvZb3Hn"
      },
      "source": [
        "1. Count and print letter frequency in a given word. Hint: use get method"
      ]
    },
    {
      "cell_type": "markdown",
      "metadata": {
        "id": "4T6JrvqBb3Ho"
      },
      "source": [
        "2. Write a program that reads some text data and prints a frequency table of the letters in alphabetical order. Case should be ignored. A sample output of the program when the user enters the data \"ThiS is String with Upper and lower case Letters\", would look this:\n",
        "<pre>\n",
        "a  2\n",
        "c  1\n",
        "d  1\n",
        "e  5\n",
        "g  1\n",
        "h  2\n",
        "i  4\n",
        "l  2\n",
        "n  2\n",
        "o  1\n",
        "p  2\n",
        "r  4\n",
        "s  5\n",
        "t  5\n",
        "u  1\n",
        "w  2\n",
        "</pre>"
      ]
    },
    {
      "cell_type": "markdown",
      "metadata": {
        "collapsed": true,
        "id": "M14T-Dptb3Ho"
      },
      "source": [
        "## Kattis problems that can be solved using dict\n",
        "1. I've Been Everywhere, Man -  https://open.kattis.com/problems/everywhere\n",
        "- Seven Wonders - https://open.kattis.com/problems/sevenwonders\n",
        "- ACM Contest Scoring - https://open.kattis.com/problems/acm\n",
        "- Stacking Cups - https://open.kattis.com/problems/cups\n",
        "- A New Alphabet - https://open.kattis.com/problems/anewalphabet\n",
        "- Words for Numbers - https://open.kattis.com/problems/wordsfornumbers\n",
        "- Babelfish - https://open.kattis.com/problems/babelfish\n",
        "- Popular Vote - https://open.kattis.com/problems/vote\n",
        "- Adding Words - https://open.kattis.com/problems/addingwords\n",
        "- Grandpa Bernie - https://open.kattis.com/problems/grandpabernie\n",
        "- Judging Troubles - https://open.kattis.com/problems/judging\n",
        "- Not Amused - https://open.kattis.com/problems/notamused\n",
        "- Engineering English - https://open.kattis.com/problems/engineeringenglish\n",
        "- Hardwood Species - https://open.kattis.com/problems/hardwoodspecies\n",
        "- Conformity - https://open.kattis.com/problems/conformity\n",
        "- Galactic Collegiate Programming Contest - https://open.kattis.com/problems/gcpc\n",
        "- Simplicity - https://open.kattis.com/problems/simplicity"
      ]
    },
    {
      "cell_type": "code",
      "execution_count": 49,
      "metadata": {
        "id": "vyNL8XaNb3Ho"
      },
      "outputs": [],
      "source": []
    }
  ],
  "metadata": {
    "kernelspec": {
      "display_name": "Python 3",
      "language": "python",
      "name": "python3"
    },
    "language_info": {
      "codemirror_mode": {
        "name": "ipython",
        "version": 3
      },
      "file_extension": ".py",
      "mimetype": "text/x-python",
      "name": "python",
      "nbconvert_exporter": "python",
      "pygments_lexer": "ipython3",
      "version": "3.7.3"
    },
    "colab": {
      "provenance": [],
      "include_colab_link": true
    }
  },
  "nbformat": 4,
  "nbformat_minor": 0
}