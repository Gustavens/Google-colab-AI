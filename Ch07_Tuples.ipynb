{
  "cells": [
    {
      "cell_type": "markdown",
      "metadata": {
        "id": "view-in-github",
        "colab_type": "text"
      },
      "source": [
        "<a href=\"https://colab.research.google.com/github/Gustavens/Google-colab-AI/blob/main/Ch07_Tuples.ipynb\" target=\"_parent\"><img src=\"https://colab.research.google.com/assets/colab-badge.svg\" alt=\"Open In Colab\"/></a>"
      ]
    },
    {
      "cell_type": "markdown",
      "metadata": {
        "id": "K9kLKoPvdZvw"
      },
      "source": [
        "# Tuples\n",
        "<a href=\"https://colab.research.google.com/github/rambasnet/FDSPython-Notebooks/blob/master/Ch07-Tuples.ipynb\" target=\"_parent\"><img src=\"https://colab.research.google.com/assets/colab-badge.svg\" alt=\"Open In Colab\"/></a>\n",
        "\n",
        "- http://openbookproject.net/thinkcs/python/english3e/tuples.html\n",
        "- containers used for grouping data values surrounded with parenthesis\n",
        "- data values in tuples are called elements/items/members\n",
        "- two major operations done with tuples are:\n",
        "    1. packing (creating tuples)\n",
        "    2. unpacking (storing data into individual variables)"
      ]
    },
    {
      "cell_type": "code",
      "execution_count": 1,
      "metadata": {
        "id": "uvd3Ly3JdZvy"
      },
      "outputs": [],
      "source": [
        "year_born = (\"Paris Hilton\", 1981) # tuple packing"
      ]
    },
    {
      "cell_type": "code",
      "execution_count": 2,
      "metadata": {
        "id": "59Ukn0yRdZv0",
        "outputId": "346b23e8-9e22-4df7-e1f0-859bead3ef78",
        "colab": {
          "base_uri": "https://localhost:8080/"
        }
      },
      "outputs": [
        {
          "output_type": "stream",
          "name": "stdout",
          "text": [
            "('Paris Hilton', 1981)\n"
          ]
        }
      ],
      "source": [
        "print(year_born)"
      ]
    },
    {
      "cell_type": "code",
      "execution_count": 3,
      "metadata": {
        "id": "u8rlmGZadZv1"
      },
      "outputs": [],
      "source": [
        "star = \"Paris\", 'J', 'Hilton', 1981, 32, 1.2 # tuple packing"
      ]
    },
    {
      "cell_type": "code",
      "execution_count": 4,
      "metadata": {
        "id": "fVWoM863dZv2",
        "outputId": "4e0e44d2-d7d5-4752-b011-727471ba987b",
        "colab": {
          "base_uri": "https://localhost:8080/"
        }
      },
      "outputs": [
        {
          "output_type": "execute_result",
          "data": {
            "text/plain": [
              "('Paris', 'J', 'Hilton', 1981, 32, 1.2)"
            ]
          },
          "metadata": {},
          "execution_count": 4
        }
      ],
      "source": [
        "star"
      ]
    },
    {
      "cell_type": "code",
      "execution_count": 5,
      "metadata": {
        "id": "FGRYXC1ZdZv3",
        "outputId": "15238b2a-0609-4efa-f75e-6048d62f6c35",
        "colab": {
          "base_uri": "https://localhost:8080/"
        }
      },
      "outputs": [
        {
          "output_type": "execute_result",
          "data": {
            "text/plain": [
              "tuple"
            ]
          },
          "metadata": {},
          "execution_count": 5
        }
      ],
      "source": [
        "type(star)"
      ]
    },
    {
      "cell_type": "code",
      "execution_count": 6,
      "metadata": {
        "id": "6BLnTqHHdZv3"
      },
      "outputs": [],
      "source": [
        "# tuple assignment\n",
        "fname, mi, lname, year, age, income = star # tuple unpacking;\n",
        "# no. of variables must match no. tuple values"
      ]
    },
    {
      "cell_type": "code",
      "execution_count": 7,
      "metadata": {
        "id": "mKJfKNd1dZv4",
        "outputId": "04d0efe3-b1de-42da-8958-f82dadc4cc49",
        "colab": {
          "base_uri": "https://localhost:8080/",
          "height": 35
        }
      },
      "outputs": [
        {
          "output_type": "execute_result",
          "data": {
            "text/plain": [
              "'Paris'"
            ],
            "application/vnd.google.colaboratory.intrinsic+json": {
              "type": "string"
            }
          },
          "metadata": {},
          "execution_count": 7
        }
      ],
      "source": [
        "fname"
      ]
    },
    {
      "cell_type": "code",
      "execution_count": 8,
      "metadata": {
        "id": "x8yRM4qjdZv4",
        "outputId": "49ca73e2-34e6-4940-e8fa-2970f972ea87",
        "colab": {
          "base_uri": "https://localhost:8080/",
          "height": 35
        }
      },
      "outputs": [
        {
          "output_type": "execute_result",
          "data": {
            "text/plain": [
              "'Hilton'"
            ],
            "application/vnd.google.colaboratory.intrinsic+json": {
              "type": "string"
            }
          },
          "metadata": {},
          "execution_count": 8
        }
      ],
      "source": [
        "lname"
      ]
    },
    {
      "cell_type": "code",
      "execution_count": 9,
      "metadata": {
        "id": "jqL98tBAdZv5",
        "outputId": "8c9f2c06-a5b7-4608-8ec9-b47cddc80c0c",
        "colab": {
          "base_uri": "https://localhost:8080/"
        }
      },
      "outputs": [
        {
          "output_type": "stream",
          "name": "stdout",
          "text": [
            "1.2\n"
          ]
        }
      ],
      "source": [
        "print(income)"
      ]
    },
    {
      "cell_type": "code",
      "execution_count": 10,
      "metadata": {
        "id": "MJ0qldohdZv7"
      },
      "outputs": [],
      "source": [
        "# swap values of two variables\n",
        "a = 100\n",
        "b = 200\n",
        "a, b = b, a"
      ]
    },
    {
      "cell_type": "code",
      "execution_count": 11,
      "metadata": {
        "id": "LYFXbtJbdZv7",
        "outputId": "2c17671a-187c-4e06-fa9c-9b167e8ed112",
        "colab": {
          "base_uri": "https://localhost:8080/"
        }
      },
      "outputs": [
        {
          "output_type": "stream",
          "name": "stdout",
          "text": [
            "200 100\n"
          ]
        }
      ],
      "source": [
        "print(a, b)"
      ]
    },
    {
      "cell_type": "markdown",
      "metadata": {
        "id": "fMxNAZjVdZv8"
      },
      "source": [
        "## Member access\n",
        "- each member of tuple can be accessed using [ index ] operator\n",
        "- index is 0 based or starts from 0"
      ]
    },
    {
      "cell_type": "code",
      "execution_count": 12,
      "metadata": {
        "id": "Xf5102vRdZv8"
      },
      "outputs": [],
      "source": [
        "name = ('John', 'A.', 'Smith')"
      ]
    },
    {
      "cell_type": "code",
      "execution_count": 13,
      "metadata": {
        "id": "X0JW4a0ddZv9",
        "outputId": "a2a02aa3-a2a2-44d7-ebd6-c5d991b6ab5e",
        "colab": {
          "base_uri": "https://localhost:8080/"
        }
      },
      "outputs": [
        {
          "output_type": "stream",
          "name": "stdout",
          "text": [
            "John A. Smith\n"
          ]
        }
      ],
      "source": [
        "print(name[0], name[1], name[2])"
      ]
    },
    {
      "cell_type": "markdown",
      "metadata": {
        "id": "zinOqKMEdZv9"
      },
      "source": [
        "## len built-in function\n",
        "- gives the length (no. of elements) of tuple"
      ]
    },
    {
      "cell_type": "code",
      "execution_count": 14,
      "metadata": {
        "id": "IGV31Y9AdZv-",
        "outputId": "b2eafc2e-6edd-4942-b9cf-b0f47539106a",
        "colab": {
          "base_uri": "https://localhost:8080/"
        }
      },
      "outputs": [
        {
          "output_type": "execute_result",
          "data": {
            "text/plain": [
              "3"
            ]
          },
          "metadata": {},
          "execution_count": 14
        }
      ],
      "source": [
        "len(name)"
      ]
    },
    {
      "cell_type": "markdown",
      "metadata": {
        "id": "Gq--Wr69dZv-"
      },
      "source": [
        "## Tuple membership\n",
        "- **in** and **not in** boolean operators let's you check for membership"
      ]
    },
    {
      "cell_type": "code",
      "execution_count": 15,
      "metadata": {
        "id": "uZoYB7K8dZv-",
        "outputId": "c4350b80-9a6b-4e69-bd87-ed33505f6c79",
        "colab": {
          "base_uri": "https://localhost:8080/"
        }
      },
      "outputs": [
        {
          "output_type": "execute_result",
          "data": {
            "text/plain": [
              "True"
            ]
          },
          "metadata": {},
          "execution_count": 15
        }
      ],
      "source": [
        "'John' in name"
      ]
    },
    {
      "cell_type": "code",
      "execution_count": 16,
      "metadata": {
        "id": "rHroO0ZedZv_",
        "outputId": "51e9c7a1-4d7c-42ff-aff9-cab1f07afd19",
        "colab": {
          "base_uri": "https://localhost:8080/"
        }
      },
      "outputs": [
        {
          "output_type": "execute_result",
          "data": {
            "text/plain": [
              "False"
            ]
          },
          "metadata": {},
          "execution_count": 16
        }
      ],
      "source": [
        "'B.' in name"
      ]
    },
    {
      "cell_type": "code",
      "execution_count": 17,
      "metadata": {
        "id": "gUJqpmr-dZv_",
        "outputId": "85635d66-cf33-4d7d-f37d-cefad8839310",
        "colab": {
          "base_uri": "https://localhost:8080/"
        }
      },
      "outputs": [
        {
          "output_type": "execute_result",
          "data": {
            "text/plain": [
              "True"
            ]
          },
          "metadata": {},
          "execution_count": 17
        }
      ],
      "source": [
        "'Jake' not in name"
      ]
    },
    {
      "cell_type": "markdown",
      "metadata": {
        "id": "QiOFPdcjdZv_"
      },
      "source": [
        "## Tuples can be returned from a function"
      ]
    },
    {
      "cell_type": "code",
      "execution_count": 18,
      "metadata": {
        "id": "kOZCux1AdZv_"
      },
      "outputs": [],
      "source": [
        "def maxAndMin(a, b, c, d, e):\n",
        "    myMax = a #max(a, b, c, d, e)\n",
        "    if myMax < b:\n",
        "        myMax = b\n",
        "    if myMax < c:\n",
        "        myMax = c\n",
        "    if myMax < d:\n",
        "        myMax = d\n",
        "    if myMax < e:\n",
        "        myMax = e\n",
        "    values = [a, b, c, d, e]\n",
        "    myMin = min(values)\n",
        "    return (myMax, myMin)\n"
      ]
    },
    {
      "cell_type": "code",
      "execution_count": 19,
      "metadata": {
        "id": "I8dbdUApdZwA",
        "outputId": "9a7ff021-76d8-4cde-c7fa-753891944421",
        "colab": {
          "base_uri": "https://localhost:8080/"
        }
      },
      "outputs": [
        {
          "output_type": "stream",
          "name": "stdout",
          "text": [
            "max = 100 min= 5\n"
          ]
        }
      ],
      "source": [
        "ab = maxAndMin(10, 20, 5, 100, 34)\n",
        "print('max =', ab[0], 'min=', ab[1])"
      ]
    },
    {
      "cell_type": "markdown",
      "metadata": {
        "id": "L9KXwdjNdZwA"
      },
      "source": [
        "## Tuples are immutable\n",
        "- can't change tuple in-place or update its elements similar to string"
      ]
    },
    {
      "cell_type": "code",
      "execution_count": 20,
      "metadata": {
        "id": "0RWqiFeidZwA",
        "outputId": "740d34ec-7a51-49c0-d9d7-c6d6e2881577",
        "colab": {
          "base_uri": "https://localhost:8080/"
        }
      },
      "outputs": [
        {
          "output_type": "stream",
          "name": "stdout",
          "text": [
            "1\n"
          ]
        }
      ],
      "source": [
        "a = (1, 2, 3)\n",
        "print(a[0])"
      ]
    },
    {
      "cell_type": "code",
      "execution_count": 21,
      "metadata": {
        "id": "P4Mr607odZwA",
        "outputId": "ca657581-8f40-4a70-b8e8-4b984a65578d",
        "colab": {
          "base_uri": "https://localhost:8080/",
          "height": 141
        }
      },
      "outputs": [
        {
          "output_type": "error",
          "ename": "TypeError",
          "evalue": "'tuple' object does not support item assignment",
          "traceback": [
            "\u001b[0;31m---------------------------------------------------------------------------\u001b[0m",
            "\u001b[0;31mTypeError\u001b[0m                                 Traceback (most recent call last)",
            "\u001b[0;32m<ipython-input-21-b6d7a4db9a51>\u001b[0m in \u001b[0;36m<cell line: 0>\u001b[0;34m()\u001b[0m\n\u001b[0;32m----> 1\u001b[0;31m \u001b[0ma\u001b[0m\u001b[0;34m[\u001b[0m\u001b[0;36m0\u001b[0m\u001b[0;34m]\u001b[0m \u001b[0;34m=\u001b[0m \u001b[0;36m100\u001b[0m\u001b[0;34m\u001b[0m\u001b[0;34m\u001b[0m\u001b[0m\n\u001b[0m",
            "\u001b[0;31mTypeError\u001b[0m: 'tuple' object does not support item assignment"
          ]
        }
      ],
      "source": [
        "a[0] = 100"
      ]
    }
  ],
  "metadata": {
    "kernelspec": {
      "display_name": "Python 3",
      "language": "python",
      "name": "python3"
    },
    "language_info": {
      "codemirror_mode": {
        "name": "ipython",
        "version": 3
      },
      "file_extension": ".py",
      "mimetype": "text/x-python",
      "name": "python",
      "nbconvert_exporter": "python",
      "pygments_lexer": "ipython3",
      "version": "3.7.2"
    },
    "colab": {
      "provenance": [],
      "include_colab_link": true
    }
  },
  "nbformat": 4,
  "nbformat_minor": 0
}