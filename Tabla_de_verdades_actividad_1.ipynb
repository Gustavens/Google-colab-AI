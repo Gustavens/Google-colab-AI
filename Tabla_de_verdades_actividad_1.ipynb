{
  "nbformat": 4,
  "nbformat_minor": 0,
  "metadata": {
    "colab": {
      "provenance": []
    },
    "kernelspec": {
      "name": "python3",
      "display_name": "Python 3"
    },
    "language_info": {
      "name": "python"
    }
  },
  "cells": [
    {
      "cell_type": "markdown",
      "source": [
        "**Tabla de verdad de McCulloh-Pitts**"
      ],
      "metadata": {
        "id": "-Hwql7yI9iGY"
      }
    },
    {
      "source": [
        "import pandas as pd\n",
        "import itertools # Import the itertools module\n",
        "\n",
        "def neurona_mcculloch_pitts(entradas, pesos, umbral):\n",
        "  \"\"\"\n",
        "  Simula una neurona McCulloch-Pitts.\n",
        "\n",
        "  Args:\n",
        "    entradas: Una lista de valores de entrada.\n",
        "    pesos: Una lista de pesos con la misma longitud que entradas.\n",
        "    umbral: El valor de umbral de activación.\n",
        "\n",
        "  Returns:\n",
        "    Un DataFrame de pandas con la tabla de verdad de la neurona.\n",
        "  \"\"\"\n",
        "\n",
        "  # Calculamos todas las posibles combinaciones de entradas\n",
        "  combinaciones = pd.DataFrame([list(x) for x in itertools.product([0, 1], repeat=len(entradas))])\n",
        "  combinaciones.columns = entradas\n",
        "\n",
        " # 1. Generar todas las combinaciones posibles de entradas, itertools.product crea todas las combinaciones posibles de 0 y 1 para la cantidad de entradas especificada.\n",
        "\n",
        "  # Calculamos la salida para cada combinación\n",
        "  combinaciones['Resultado de salida'] = combinaciones.dot(pesos) >= umbral\n",
        "# Se realiza el producto punto (dot product) entre las entradas y los pesos para cada fila del DataFrame\n",
        "# Si el resultado es mayor o igual al umbral, la salida es True (1), de lo contrario es False (0).\n",
        "  return combinaciones\n",
        "\n",
        "# Ejemplo de uso:\n",
        "entradas = ['x1', 'x2', 'x3', 'x4']\n",
        "pesos = [1, 1, -1, -1]\n",
        "umbral = 2\n",
        "\n",
        "tabla_verdad = neurona_mcculloch_pitts(entradas, pesos, umbral)\n",
        "print(tabla_verdad)"
      ],
      "cell_type": "code",
      "metadata": {
        "colab": {
          "base_uri": "https://localhost:8080/"
        },
        "id": "p_oA9MB99fNy",
        "outputId": "dd5ed634-2253-4677-8c49-918e15ccb63c"
      },
      "execution_count": 5,
      "outputs": [
        {
          "output_type": "stream",
          "name": "stdout",
          "text": [
            "    x1  x2  x3  x4  Resultado de salida\n",
            "0    0   0   0   0                False\n",
            "1    0   0   0   1                False\n",
            "2    0   0   1   0                False\n",
            "3    0   0   1   1                False\n",
            "4    0   1   0   0                False\n",
            "5    0   1   0   1                False\n",
            "6    0   1   1   0                False\n",
            "7    0   1   1   1                False\n",
            "8    1   0   0   0                False\n",
            "9    1   0   0   1                False\n",
            "10   1   0   1   0                False\n",
            "11   1   0   1   1                False\n",
            "12   1   1   0   0                 True\n",
            "13   1   1   0   1                False\n",
            "14   1   1   1   0                False\n",
            "15   1   1   1   1                False\n"
          ]
        }
      ]
    },
    {
      "cell_type": "code",
      "source": [],
      "metadata": {
        "id": "dEZS0j2U-i5U"
      },
      "execution_count": null,
      "outputs": []
    }
  ]
}